{
 "cells": [
  {
   "cell_type": "markdown",
   "metadata": {},
   "source": [
    "# Fun with Python and Quantum Physics\n",
    "\n",
    "most stuff taken from the [textbook](https://qiskit.org/textbook)"
   ]
  },
  {
   "cell_type": "markdown",
   "metadata": {},
   "source": [
    "# Absolute minimum of physics and math needed\n",
    "\n",
    "## Linear Algebra\n",
    "- a vector is an element of a vector space\n",
    "- a vector space over a field is a set of elements with an addition inside the set and a multiplication with an element from the field\n",
    "\n",
    "In math speak:\n",
    "$$\n",
    "K \\textrm{ is a field} \\\\\n",
    "V \\textrm{ is a set} \\\\\n",
    "(V, +, \\cdot) \\textrm{ is a vector space over } K \\textrm{ with} \\\\\n",
    "+ := V \\times V \\to V \\\\\n",
    "\\cdot := K \\times V \\to V\n",
    "$$\n",
    "\n"
   ]
  },
  {
   "cell_type": "markdown",
   "metadata": {},
   "source": [
    "# Qiskit"
   ]
  },
  {
   "cell_type": "code",
   "execution_count": 1,
   "metadata": {},
   "outputs": [],
   "source": [
    "import qiskit"
   ]
  },
  {
   "cell_type": "code",
   "execution_count": 2,
   "metadata": {
    "scrolled": true
   },
   "outputs": [
    {
     "data": {
      "text/plain": [
       "{'qiskit-terra': '0.15.2',\n",
       " 'qiskit-aer': '0.6.1',\n",
       " 'qiskit-ignis': '0.4.0',\n",
       " 'qiskit-ibmq-provider': '0.9.0',\n",
       " 'qiskit-aqua': '0.7.5',\n",
       " 'qiskit': '0.21.0'}"
      ]
     },
     "execution_count": 2,
     "metadata": {},
     "output_type": "execute_result"
    }
   ],
   "source": [
    "qiskit.__qiskit_version__"
   ]
  },
  {
   "cell_type": "markdown",
   "metadata": {},
   "source": [
    "You can run your circuits for free on [IBMQ](https://quantum-computing.ibm.com/)"
   ]
  },
  {
   "cell_type": "code",
   "execution_count": 3,
   "metadata": {},
   "outputs": [],
   "source": [
    "from qiskit import IBMQ"
   ]
  },
  {
   "cell_type": "code",
   "execution_count": 4,
   "metadata": {},
   "outputs": [],
   "source": [
    "# paste your api tokes here and remove the comment\n",
    "#IBMQ.save_account(your key)"
   ]
  },
  {
   "cell_type": "code",
   "execution_count": 5,
   "metadata": {},
   "outputs": [
    {
     "name": "stderr",
     "output_type": "stream",
     "text": [
      "/home/max/anaconda3/lib/python3.7/site-packages/qiskit/providers/ibmq/ibmqfactory.py:192: UserWarning: Timestamps in IBMQ backend properties, jobs, and job results are all now in local time instead of UTC.\n",
      "  warnings.warn('Timestamps in IBMQ backend properties, jobs, and job results '\n"
     ]
    },
    {
     "data": {
      "text/plain": [
       "<AccountProvider for IBMQ(hub='ibm-q', group='open', project='main')>"
      ]
     },
     "execution_count": 5,
     "metadata": {},
     "output_type": "execute_result"
    }
   ],
   "source": [
    "IBMQ.load_account()"
   ]
  },
  {
   "cell_type": "code",
   "execution_count": 6,
   "metadata": {},
   "outputs": [],
   "source": [
    "provider = IBMQ.get_provider()"
   ]
  },
  {
   "cell_type": "code",
   "execution_count": 7,
   "metadata": {},
   "outputs": [],
   "source": [
    "from qiskit import *\n",
    "from qiskit.visualization import plot_histogram"
   ]
  },
  {
   "cell_type": "markdown",
   "metadata": {},
   "source": [
    "## Creating Circuits\n",
    "\n",
    "### basics\n",
    "- create a circuit: ```QuantumCircuit(number of qbits, number of cbits)```\n",
    "    - qbits are initalized on 0\n",
    "    - cbit is a classical bit (definite 0 or 1)\n",
    "    - you need to measure qbits to get a result, the cbits work as some sort of output for that\n",
    "- add measurement: ```qc.measure(index of qbit, index of cbit)``` with qc being your circuit\n",
    "- visualize circuit: ```qc.draw()``` \n",
    "    - add 'mpl' as argument for looks\n",
    "- run circuit: ```execute(circuit, backend)```\n",
    "    - backend can be either the qasm simulator or a real machine"
   ]
  },
  {
   "cell_type": "code",
   "execution_count": 8,
   "metadata": {},
   "outputs": [],
   "source": [
    "# setup\n",
    "\n",
    "n = 8\n",
    "n_q = n # number of qbits\n",
    "n_c = n # number of classical bits / output bits"
   ]
  },
  {
   "cell_type": "code",
   "execution_count": 9,
   "metadata": {},
   "outputs": [
    {
     "data": {
      "image/png": "[encoded data removed]",
      "text/plain": [
       "<Figure size 622.377x565.88 with 1 Axes>"
      ]
     },
     "execution_count": 9,
     "metadata": {},
     "output_type": "execute_result"
    }
   ],
   "source": [
    "# output circuit\n",
    "\n",
    "qc_output = QuantumCircuit(n_q, n_c)\n",
    "for j in range(n):\n",
    "    qc_output.measure(j, j)\n",
    "    \n",
    "qc_output.draw('mpl')"
   ]
  },
  {
   "cell_type": "code",
   "execution_count": 10,
   "metadata": {},
   "outputs": [
    {
     "data": {
      "image/png": "[encoded data removed]",
      "text/plain": [
       "<Figure size 504x360 with 1 Axes>"
      ]
     },
     "execution_count": 10,
     "metadata": {},
     "output_type": "execute_result"
    }
   ],
   "source": [
    "# executing and showing result\n",
    "counts = execute(qc_output, Aer.get_backend('qasm_simulator')).result().get_counts()\n",
    "plot_histogram(counts)"
   ]
  },
  {
   "cell_type": "markdown",
   "metadata": {},
   "source": [
    "The qasm_simulator only simulates a perfect quantum computer, so there is no noise."
   ]
  },
  {
   "cell_type": "code",
   "execution_count": 11,
   "metadata": {},
   "outputs": [
    {
     "name": "stdout",
     "output_type": "stream",
     "text": [
      "[<IBMQSimulator('ibmq_qasm_simulator') from IBMQ(hub='ibm-q', group='open', project='main')>, <IBMQBackend('ibmqx2') from IBMQ(hub='ibm-q', group='open', project='main')>, <IBMQBackend('ibmq_16_melbourne') from IBMQ(hub='ibm-q', group='open', project='main')>, <IBMQBackend('ibmq_vigo') from IBMQ(hub='ibm-q', group='open', project='main')>, <IBMQBackend('ibmq_ourense') from IBMQ(hub='ibm-q', group='open', project='main')>, <IBMQBackend('ibmq_valencia') from IBMQ(hub='ibm-q', group='open', project='main')>, <IBMQBackend('ibmq_london') from IBMQ(hub='ibm-q', group='open', project='main')>, <IBMQBackend('ibmq_burlington') from IBMQ(hub='ibm-q', group='open', project='main')>, <IBMQBackend('ibmq_essex') from IBMQ(hub='ibm-q', group='open', project='main')>, <IBMQBackend('ibmq_armonk') from IBMQ(hub='ibm-q', group='open', project='main')>, <IBMQBackend('ibmq_santiago') from IBMQ(hub='ibm-q', group='open', project='main')>]\n"
     ]
    }
   ],
   "source": [
    "# seeing what backends are available\n",
    "print(provider.backends()) "
   ]
  },
  {
   "cell_type": "code",
   "execution_count": null,
   "metadata": {},
   "outputs": [],
   "source": [
    "# choose a backend, for example ibmq_16_melbourne (it's actually in New York and not Melbourne) and run your circuit like before but with the new backend (might take a while).\n",
    "\n",
    "# executing and showing result\n",
    "backend = provider.get_backend('ibmq_16_melbourne')\n",
    "counts = execute(qc_output, backend).result().get_counts()\n",
    "plot_histogram(counts)"
   ]
  },
  {
   "cell_type": "markdown",
   "metadata": {},
   "source": [
    "Because of the noise, you have to run circuits multiple times for \"correct\" results.\n",
    "\n",
    "The simulator is enough for debugging and prototypes, but can't handle more than around 30 qbits."
   ]
  },
  {
   "cell_type": "code",
   "execution_count": null,
   "metadata": {
    "scrolled": true
   },
   "outputs": [],
   "source": [
    "## number of times the circuit was run:\n",
    "sum(counts.values())"
   ]
  },
  {
   "cell_type": "markdown",
   "metadata": {},
   "source": [
    "### Gates\n",
    "\n",
    "- like normal gates, but with a quantum spin (and there are just normal gates too).\n"
   ]
  },
  {
   "cell_type": "code",
   "execution_count": null,
   "metadata": {},
   "outputs": [],
   "source": [
    "# not or x-gate\n",
    "\n",
    "qc_encode = QuantumCircuit(n_q)\n",
    "\n",
    "# this results in a 20d (000010100b)\n",
    "qc_encode.x(2)\n",
    "qc_encode.x(4)\n",
    "\n",
    "\n",
    "qc = qc_encode + qc_output\n",
    "qc.draw('mpl')"
   ]
  },
  {
   "cell_type": "code",
   "execution_count": null,
   "metadata": {},
   "outputs": [],
   "source": [
    "# executing and showing result\n",
    "counts = execute(qc, Aer.get_backend('qasm_simulator')).result().get_counts()\n",
    "plot_histogram(counts)"
   ]
  },
  {
   "cell_type": "markdown",
   "metadata": {},
   "source": [
    "### Half Adder\n",
    "\n",
    "- cx = conditional not, basically quantum xor: ```qc.cx(first, second)``` overwrites second\n",
    "- ccx = Toffoli Gate, basically quantum and: ```qc.ccx(first, second, output)``` overwrites output"
   ]
  },
  {
   "cell_type": "code",
   "execution_count": null,
   "metadata": {},
   "outputs": [],
   "source": [
    "qh = QuantumCircuit(4,2)\n",
    "\n",
    "# encoding a 1 + 1\n",
    "qh.x(0)\n",
    "qh.x(1)\n",
    "\n",
    "qh.cx(0, 2)\n",
    "qh.cx(1, 2)\n",
    "qh.ccx(0, 1, 3)\n",
    "\n",
    "qh.measure(2, 0)\n",
    "qh.measure(3, 1)\n",
    "\n",
    "qh.draw('mpl')"
   ]
  },
  {
   "cell_type": "code",
   "execution_count": null,
   "metadata": {},
   "outputs": [],
   "source": [
    "# executing and showing result\n",
    "counts = execute(qh, Aer.get_backend('qasm_simulator')).result().get_counts()\n",
    "plot_histogram(counts)"
   ]
  },
  {
   "cell_type": "markdown",
   "metadata": {},
   "source": [
    "### 2 Bit Adder\n",
    "\n",
    "#### encoding"
   ]
  },
  {
   "cell_type": "code",
   "execution_count": null,
   "metadata": {},
   "outputs": [],
   "source": [
    "# needed registers\n",
    "a0 = QuantumRegister(1, 'a0')\n",
    "a1 = QuantumRegister(1, 'a1')\n",
    "b0 = QuantumRegister(1, 'b0')\n",
    "b1 = QuantumRegister(1, 'b1')"
   ]
  },
  {
   "cell_type": "code",
   "execution_count": null,
   "metadata": {},
   "outputs": [],
   "source": [
    "qc_encode = QuantumCircuit(a0, a1, b0, b1)\n",
    "\n",
    "# encode 1 + 3\n",
    "qc_encode.x(0)\n",
    "#qc_encode.x(1)\n",
    "qc_encode.x(2)\n",
    "qc_encode.x(3)\n",
    "\n",
    "qc_encode.draw('mpl')"
   ]
  },
  {
   "cell_type": "markdown",
   "metadata": {},
   "source": [
    "#### computation"
   ]
  },
  {
   "cell_type": "code",
   "execution_count": null,
   "metadata": {},
   "outputs": [],
   "source": [
    "c0 = QuantumRegister(2, 'c0')\n",
    "\n",
    "qc_ha_0 = QuantumCircuit(a0, b0, c0)\n",
    "\n",
    "qc_ha_0.cx(1, 2)\n",
    "qc_ha_0.cx(0, 2)\n",
    "qc_ha_0.ccx(0, 1, 3)\n",
    "\n",
    "c1 = QuantumRegister(2, 'c1')\n",
    "\n",
    "qc_ha_1 = QuantumCircuit(a1, b1, c1)\n",
    "\n",
    "qc_ha_1.cx(1, 2)\n",
    "qc_ha_1.cx(0, 2)\n",
    "qc_ha_1.ccx(0, 1, 3)\n",
    "\n",
    "d = QuantumRegister(3, 'd')\n",
    "q = QuantumRegister(1, 'q')\n",
    "qc_fa = QuantumCircuit(c0, c1, q, d)\n",
    "\n",
    "# c0_1 xor c1_0 -> d1\n",
    "qc_fa.cx(1, 6)\n",
    "qc_fa.cx(2, 6)\n",
    "\n",
    "# c0_1 and c1_0 -> q_0\n",
    "qc_fa.ccx(1, 2, 4)\n",
    "\n",
    "# c1_0 or c1_1 -> d2\n",
    "qc_fa.cx(3, 7)\n",
    "qc_fa.cx(4, 7)\n",
    "qc_fa.ccx(3, 4, 7)\n",
    "\n",
    "# c0_0 -> d0\n",
    "qc_fa.cx(0, 5)\n",
    "\n",
    "qc_compute = qc_ha_0 + qc_ha_1 + qc_fa\n",
    "qc_compute.draw('mpl', justify='none')"
   ]
  },
  {
   "cell_type": "markdown",
   "metadata": {},
   "source": [
    "#### output"
   ]
  },
  {
   "cell_type": "code",
   "execution_count": null,
   "metadata": {},
   "outputs": [],
   "source": [
    "o = ClassicalRegister(3, 'o')\n",
    "\n",
    "qc_output = QuantumCircuit(d, o)\n",
    "\n",
    "for i in range(3):\n",
    "    qc_output.measure(i, i)\n",
    "    \n",
    "qc_output.draw('mpl')"
   ]
  },
  {
   "cell_type": "code",
   "execution_count": null,
   "metadata": {},
   "outputs": [],
   "source": [
    "qc = qc_encode + qc_compute + qc_output\n",
    "qc.draw('mpl')"
   ]
  },
  {
   "cell_type": "code",
   "execution_count": null,
   "metadata": {},
   "outputs": [],
   "source": [
    "# executing and showing result\n",
    "counts = execute(qc, Aer.get_backend('qasm_simulator')).result().get_counts()\n",
    "plot_histogram(counts)"
   ]
  },
  {
   "cell_type": "code",
   "execution_count": null,
   "metadata": {},
   "outputs": [],
   "source": [
    "backend = provider.get_backend('ibmq_16_melbourne')\n",
    "counts = execute(qc, backend).result().get_counts()\n",
    "plot_histogram(counts)"
   ]
  },
  {
   "cell_type": "code",
   "execution_count": null,
   "metadata": {},
   "outputs": [],
   "source": []
  }
 ],
 "metadata": {
  "kernelspec": {
   "display_name": "Python 3",
   "language": "python",
   "name": "python3"
  },
  "language_info": {
   "codemirror_mode": {
    "name": "ipython",
    "version": 3
   },
   "file_extension": ".py",
   "mimetype": "text/x-python",
   "name": "python",
   "nbconvert_exporter": "python",
   "pygments_lexer": "ipython3",
   "version": "3.7.7"
  }
 },
 "nbformat": 4,
 "nbformat_minor": 2
}
